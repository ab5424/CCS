{
 "cells": [
  {
   "cell_type": "markdown",
   "id": "69f03dfb",
   "metadata": {},
   "source": [
    "# CCS potential with LAMMPS  for ZnO"
   ]
  },
  {
   "cell_type": "markdown",
   "id": "52758eb7",
   "metadata": {},
   "source": [
    "In this example, we will run CCS potentials with LAMMPS for multicomponent systems. ZnO  CCS potential is used for this illustration. Note that the exponential head part in **CCS_params.json** is ignored when LAMMPS spline tables are created. The exponential part is avoided because LAMMPS performs a pre-interpolation on the tabular data, and often pre-interpolation done with exponential head gives worse results. In general, a higher resolution should be used while generating spline table for LAMMPS. By default, the gridsize used for CCS is divided by 10.\n",
    "\n",
    "**Note:** \n",
    "* Install scikit-learn if it's not installed yet; \n",
    "https://scikit-learn.org/stable/install.html"
   ]
  },
  {
   "cell_type": "code",
   "execution_count": 1,
   "id": "5e948b49",
   "metadata": {},
   "source": [
    "# Generates CCS.table file readable by LAMMPS\n",
    "from ccs_fit.scripts.jsonTotable import asecalcTotable\n",
    "tags=asecalcTotable(\"CCS_params.json\",scale=10)  # Controls the resolution of the gridsize; gridsize=dr/scale.\n",
    "tags"
   ],
   "outputs": []
  },
  {
   "cell_type": "code",
   "execution_count": 2,
   "id": "2bc44b91",
   "metadata": {},
   "source": [
    "!head CCS.table"
   ],
   "outputs": []
  },
  {
   "cell_type": "code",
   "execution_count": 3,
   "id": "cfa76efd",
   "metadata": {},
   "source": [
    "import json\n",
    "import copy\n",
    "import matplotlib.pyplot as plt\n",
    "\n",
    "from ase import Atoms\n",
    "from ase.calculators.lammpsrun import LAMMPS\n",
    "from ccs_fit.ase_calculator.ccs_ase_calculator import CCS\n",
    "from ase.io import read,write\n",
    "from ase.io.trajectory import Trajectory\n",
    "from ase.optimize import BFGS\n",
    "from sklearn.metrics import mean_squared_error\n",
    "import numpy as np\n",
    "\n",
    "\n",
    "with open ('CCS_params.json','r') as f:\n",
    "    CCS_params=json.load(f)\n",
    "\n",
    "\n",
    "# Parameters for LAMMPS \n",
    "parameters = {\n",
    "              'pair_style': 'table spline 1000',   # The number of elements chosen taken for pre-interpolation\n",
    "              'pair_coeff': ['1 1  CCS.table O-O 5.9999990640749274', # Specify Rcut for each pair\n",
    "                             '1 2  CCS.table O-Zn 5.9999991089416',\n",
    "                             '2 2  CCS.table Zn-Zn 5.999995708965134'],\n",
    "#              'pair_write': ['1 2 500 r  1.2999991089415996 5.9999991089416 table.txt table']\n",
    "              'command': '/usr/bin/lmp'   # Remove or change to your local lammps executable\n",
    "}\n",
    "\n"
   ],
   "outputs": []
  },
  {
   "cell_type": "markdown",
   "id": "a9139c56",
   "metadata": {},
   "source": [
    "# Single point evaluation"
   ]
  },
  {
   "cell_type": "code",
   "execution_count": 4,
   "id": "11ae9dcb-5e1a-4689-bb60-9e540307c355",
   "metadata": {},
   "source": [
    "struct=read('TiO2.poscar')\n",
    "\n",
    "chem_symbs = struct.get_chemical_symbols()\n",
    "chem_symbs[0] = 'Zn'\n",
    "chem_symbs[1] = 'Zn'\n",
    "\n",
    "struct.set_chemical_symbols(chem_symbs)"
   ],
   "outputs": []
  },
  {
   "cell_type": "code",
   "execution_count": 5,
   "id": "d9ad5540-4b44-4f55-836c-eeea70d19379",
   "metadata": {},
   "source": [
    "from pymatgen.core import Structure\n",
    "\n",
    "struc_pmg = Structure.from_file(\"TiO2.POSCAR\")\n",
    "\n",
    "print(dir(struc_pmg))\n",
    "\n",
    "print(struc_pmg.get_space_group_info())"
   ],
   "outputs": []
  },
  {
   "cell_type": "code",
   "execution_count": 6,
   "id": "14cd32ac",
   "metadata": {},
   "source": [
    "# struct=read('POSCAR')\n",
    "lammps = LAMMPS(parameters=parameters,keep_tmp_files=False)\n",
    "ccs= CCS(CCS_params)\n",
    "\n",
    "\n",
    "struct_ase=copy.deepcopy(struct)\n",
    "\n",
    "struct.calc = lammps\n",
    "print(\"Energy from LAMMPS  pre optmization: \", struct.get_potential_energy())\n",
    "struct_ase.calc=ccs\n",
    "print(\"Energy from CCS calculator pre optmization:\", struct_ase.get_potential_energy())\n",
    "\n",
    "print (\"MSE on energy between ase calc and LAMMPS: {}\".format((struct_ase.get_potential_energy()-struct.get_potential_energy())**2))\n",
    "print (\"MSE on forces between ase calc and LAMMPS: {}\".format(mean_squared_error(struct.get_forces(),struct_ase.get_forces())))\n",
    "\n",
    "\n"
   ],
   "outputs": []
  },
  {
   "cell_type": "markdown",
   "id": "d9b50704",
   "metadata": {},
   "source": [
    "# Optimization"
   ]
  },
  {
   "cell_type": "code",
   "execution_count": 7,
   "id": "448d58e6",
   "metadata": {},
   "source": [
    "traj = Trajectory('LAMMPS.traj', 'w', struct)\n",
    "dyn=BFGS(struct)\n",
    "dyn.attach(traj)\n",
    "dyn.run(fmax=0.005)\n",
    "print(\"Energy from LAMMPS after optimization: \", struct.get_potential_energy())\n",
    "\n",
    "\n",
    "traj = Trajectory('CCS.traj', 'w', struct_ase)\n",
    "dyn=BFGS(struct_ase)\n",
    "dyn.attach(traj)\n",
    "dyn.run(fmax=0.005)\n",
    "print(\"Energy from CCS calculator after optimization:\", struct_ase.get_potential_energy())\n",
    "\n",
    "print (\"MSE on energy between ase calc and LAMMPS: {}\".format((struct_ase.get_potential_energy()-struct.get_potential_energy())**2))\n",
    "print (\"MSE on forces between ase calc and LAMMPS: {}\".format(mean_squared_error(struct.get_forces(),struct_ase.get_forces())))\n",
    "\n"
   ],
   "outputs": []
  },
  {
   "cell_type": "markdown",
   "id": "6a5d8533",
   "metadata": {},
   "source": [
    "**Note** : \n",
    "* Onebody energy contributons in CCS_params file was set to 0 for easy comparison"
   ]
  },
  {
   "cell_type": "markdown",
   "id": "feff4b7a-9e67-479c-a666-16f69e1d2c91",
   "metadata": {},
   "source": [
    "### Adding cell optimisation"
   ]
  },
  {
   "cell_type": "code",
   "execution_count": 8,
   "id": "93c9e1b1-fdbe-437b-9e76-7526575c0667",
   "metadata": {},
   "source": [
    "from ase.constraints import StrainFilter\n",
    "from ase.io import read"
   ],
   "outputs": []
  },
  {
   "cell_type": "code",
   "execution_count": 13,
   "id": "85aab954-1fbf-46ef-8089-a2eaa5f42e17",
   "metadata": {},
   "source": [
    "opt_struct = read('LAMMPS.traj')\n",
    "opt_struct.calc = lammps\n",
    "\n",
    "print(opt_struct.get_stress())\n",
    "\n",
    "orig_cell = opt_struct.cell.copy()\n",
    "\n",
    "sf = StrainFilter(opt_struct)\n",
    "opt = BFGS(sf, trajectory='LAMMPS_strain.traj')\n",
    "opt.run(fmax=1e-4)\n",
    "alat = opt_struct.cell[0][1] - opt_struct.cell[0][0]\n",
    "\n",
    "LAMMPS_strain_opt = read('LAMMPS_strain.traj')\n",
    "LAMMPS_strain_opt_cell = LAMMPS_strain_opt.cell\n",
    "\n",
    "old_vol = np.prod(np.diag(orig_cell))\n",
    "new_vol = np.prod(np.diag(LAMMPS_strain_opt_cell))\n",
    "\n",
    "print(\"Volume change of {} %, as a result of the following lattice parameter changes:\".format((new_vol-old_vol)/old_vol*100))\n",
    "print([np.diag(LAMMPS_strain_opt_cell-orig_cell)[i]/np.diag(orig_cell)[i]*100 for i in range(3)])"
   ],
   "outputs": []
  },
  {
   "cell_type": "code",
   "execution_count": 14,
   "id": "b9c1afbb-1434-4c67-94be-7518e7b1d137",
   "metadata": {},
   "source": [
    "from ase.io import write, read\n",
    "\n",
    "opt_struct = read('CCS.traj')\n",
    "opt_struct.calc = ccs\n",
    "\n",
    "print(opt_struct.get_stress())\n",
    "\n",
    "orig_cell = opt_struct.cell.copy()\n",
    "\n",
    "sf = StrainFilter(opt_struct)\n",
    "opt = BFGS(sf, trajectory='CCS_strain.traj')\n",
    "opt.run(fmax=1e-4)\n",
    "alat = opt_struct.cell[0][1] - opt_struct.cell[0][0]\n",
    "\n",
    "CCS_strain_opt = read('CCS_strain.traj')\n",
    "CCS_strain_opt_cell = CCS_strain_opt.cell\n",
    "\n",
    "old_vol = np.prod(np.diag(orig_cell))\n",
    "new_vol = np.prod(np.diag(CCS_strain_opt_cell))\n",
    "\n",
    "write(\"TiO2_opt_ccs.POSCAR\", CCS_strain_opt)\n",
    "\n",
    "print(\"Volume change of {} %, as a result of the following lattice parameter changes:\".format((new_vol-old_vol)/old_vol*100))\n",
    "print([np.diag(CCS_strain_opt_cell-orig_cell)[i]/np.diag(orig_cell)[i]*100 for i in range(3)])\n",
    "\n",
    "print(np.diag(CCS_strain_opt_cell))"
   ],
   "outputs": []
  },
  {
   "cell_type": "code",
   "execution_count": 11,
   "id": "41df960e-903d-47e5-b532-92d3b298be5a",
   "metadata": {},
   "source": [
    "!ase gui LAMMPS.traj"
   ],
   "outputs": []
  },
  {
   "cell_type": "code",
   "execution_count": 12,
   "id": "f992172a-8cf4-491b-be78-4464c7403f07",
   "metadata": {},
   "source": [
    "!ase gui LAMMPS_strain.traj"
   ],
   "outputs": []
  },
  {
   "cell_type": "code",
   "execution_count": 1,
   "id": "725303a6-5762-4b06-8733-7d649cab3cae",
   "metadata": {},
   "source": [
    "from ccs_fit.scripts.ccs_export_FF import write_FF\n",
    "\n",
    "write_FF(\"CCS_params.json\")"
   ],
   "outputs": []
  },
  {
   "cell_type": "code",
   "execution_count": null,
   "id": "513e3a65-e64d-4050-9001-14a25fb6b381",
   "metadata": {},
   "source": [],
   "outputs": []
  }
 ],
 "metadata": {
  "kernelspec": {
   "display_name": "Python 3 (ipykernel)",
   "language": "python",
   "name": "python3"
  },
  "language_info": {
   "codemirror_mode": {
    "name": "ipython",
    "version": 3
   },
   "file_extension": ".py",
   "mimetype": "text/x-python",
   "name": "python",
   "nbconvert_exporter": "python",
   "pygments_lexer": "ipython3",
   "version": "3.9.15"
  },
  "vscode": {
   "interpreter": {
    "hash": "916dbcbb3f70747c44a77c7bcd40155683ae19c65e1c03b4aa3499c5328201f1"
   }
  }
 },
 "nbformat": 4,
 "nbformat_minor": 5
}
